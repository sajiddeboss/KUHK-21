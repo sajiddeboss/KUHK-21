{
  "nbformat": 4,
  "nbformat_minor": 0,
  "metadata": {
    "colab": {
      "name": "KUHack_Heart.ipynb",
      "provenance": [],
      "collapsed_sections": []
    },
    "kernelspec": {
      "name": "python3",
      "display_name": "Python 3"
    }
  },
  "cells": [
    {
      "cell_type": "code",
      "metadata": {
        "id": "GkWKptMImJ_L"
      },
      "source": [
        "import pandas as pd\r\n",
        "import numpy as np"
      ],
      "execution_count": null,
      "outputs": []
    },
    {
      "cell_type": "code",
      "metadata": {
        "id": "cibZbOh4mTht"
      },
      "source": [
        "data = pd.read_csv(\"heart.csv\")"
      ],
      "execution_count": null,
      "outputs": []
    },
    {
      "cell_type": "code",
      "metadata": {
        "id": "XJZtp48Imc04"
      },
      "source": [
        "from sklearn.ensemble import RandomForestClassifier\r\n",
        "from sklearn.preprocessing import StandardScaler\r\n",
        "from sklearn.model_selection import train_test_split, GridSearchCV\r\n",
        "from sklearn.metrics import accuracy_score"
      ],
      "execution_count": null,
      "outputs": []
    },
    {
      "cell_type": "code",
      "metadata": {
        "colab": {
          "base_uri": "https://localhost:8080/",
          "height": 195
        },
        "id": "AqUkC02pmsBK",
        "outputId": "f6016796-fd7c-4b2e-eaa4-7fe7a249f5c8"
      },
      "source": [
        "data.head()"
      ],
      "execution_count": null,
      "outputs": [
        {
          "output_type": "execute_result",
          "data": {
            "text/html": [
              "<div>\n",
              "<style scoped>\n",
              "    .dataframe tbody tr th:only-of-type {\n",
              "        vertical-align: middle;\n",
              "    }\n",
              "\n",
              "    .dataframe tbody tr th {\n",
              "        vertical-align: top;\n",
              "    }\n",
              "\n",
              "    .dataframe thead th {\n",
              "        text-align: right;\n",
              "    }\n",
              "</style>\n",
              "<table border=\"1\" class=\"dataframe\">\n",
              "  <thead>\n",
              "    <tr style=\"text-align: right;\">\n",
              "      <th></th>\n",
              "      <th>age</th>\n",
              "      <th>sex</th>\n",
              "      <th>cp</th>\n",
              "      <th>trestbps</th>\n",
              "      <th>chol</th>\n",
              "      <th>fbs</th>\n",
              "      <th>restecg</th>\n",
              "      <th>thalach</th>\n",
              "      <th>exang</th>\n",
              "      <th>oldpeak</th>\n",
              "      <th>slope</th>\n",
              "      <th>ca</th>\n",
              "      <th>thal</th>\n",
              "      <th>target</th>\n",
              "    </tr>\n",
              "  </thead>\n",
              "  <tbody>\n",
              "    <tr>\n",
              "      <th>0</th>\n",
              "      <td>52</td>\n",
              "      <td>1</td>\n",
              "      <td>0</td>\n",
              "      <td>125</td>\n",
              "      <td>212</td>\n",
              "      <td>0</td>\n",
              "      <td>1</td>\n",
              "      <td>168</td>\n",
              "      <td>0</td>\n",
              "      <td>1.0</td>\n",
              "      <td>2</td>\n",
              "      <td>2</td>\n",
              "      <td>3</td>\n",
              "      <td>0</td>\n",
              "    </tr>\n",
              "    <tr>\n",
              "      <th>1</th>\n",
              "      <td>53</td>\n",
              "      <td>1</td>\n",
              "      <td>0</td>\n",
              "      <td>140</td>\n",
              "      <td>203</td>\n",
              "      <td>1</td>\n",
              "      <td>0</td>\n",
              "      <td>155</td>\n",
              "      <td>1</td>\n",
              "      <td>3.1</td>\n",
              "      <td>0</td>\n",
              "      <td>0</td>\n",
              "      <td>3</td>\n",
              "      <td>0</td>\n",
              "    </tr>\n",
              "    <tr>\n",
              "      <th>2</th>\n",
              "      <td>70</td>\n",
              "      <td>1</td>\n",
              "      <td>0</td>\n",
              "      <td>145</td>\n",
              "      <td>174</td>\n",
              "      <td>0</td>\n",
              "      <td>1</td>\n",
              "      <td>125</td>\n",
              "      <td>1</td>\n",
              "      <td>2.6</td>\n",
              "      <td>0</td>\n",
              "      <td>0</td>\n",
              "      <td>3</td>\n",
              "      <td>0</td>\n",
              "    </tr>\n",
              "    <tr>\n",
              "      <th>3</th>\n",
              "      <td>61</td>\n",
              "      <td>1</td>\n",
              "      <td>0</td>\n",
              "      <td>148</td>\n",
              "      <td>203</td>\n",
              "      <td>0</td>\n",
              "      <td>1</td>\n",
              "      <td>161</td>\n",
              "      <td>0</td>\n",
              "      <td>0.0</td>\n",
              "      <td>2</td>\n",
              "      <td>1</td>\n",
              "      <td>3</td>\n",
              "      <td>0</td>\n",
              "    </tr>\n",
              "    <tr>\n",
              "      <th>4</th>\n",
              "      <td>62</td>\n",
              "      <td>0</td>\n",
              "      <td>0</td>\n",
              "      <td>138</td>\n",
              "      <td>294</td>\n",
              "      <td>1</td>\n",
              "      <td>1</td>\n",
              "      <td>106</td>\n",
              "      <td>0</td>\n",
              "      <td>1.9</td>\n",
              "      <td>1</td>\n",
              "      <td>3</td>\n",
              "      <td>2</td>\n",
              "      <td>0</td>\n",
              "    </tr>\n",
              "  </tbody>\n",
              "</table>\n",
              "</div>"
            ],
            "text/plain": [
              "   age  sex  cp  trestbps  chol  fbs  ...  exang  oldpeak  slope  ca  thal  target\n",
              "0   52    1   0       125   212    0  ...      0      1.0      2   2     3       0\n",
              "1   53    1   0       140   203    1  ...      1      3.1      0   0     3       0\n",
              "2   70    1   0       145   174    0  ...      1      2.6      0   0     3       0\n",
              "3   61    1   0       148   203    0  ...      0      0.0      2   1     3       0\n",
              "4   62    0   0       138   294    1  ...      0      1.9      1   3     2       0\n",
              "\n",
              "[5 rows x 14 columns]"
            ]
          },
          "metadata": {
            "tags": []
          },
          "execution_count": 4
        }
      ]
    },
    {
      "cell_type": "code",
      "metadata": {
        "id": "pt0kbxZymygF"
      },
      "source": [
        "X= data.iloc[:,:-1]\r\n",
        "y= data.iloc[:,-1]"
      ],
      "execution_count": null,
      "outputs": []
    },
    {
      "cell_type": "code",
      "metadata": {
        "id": "ZyRN0u6Om3hZ"
      },
      "source": [
        "X_train, X_test, y_train, y_test = train_test_split(X,y, test_size=0.3, random_state=101)"
      ],
      "execution_count": null,
      "outputs": []
    },
    {
      "cell_type": "code",
      "metadata": {
        "id": "UVWfqp6jnA0f"
      },
      "source": [
        "std_scaler = StandardScaler()\r\n",
        "X_train=std_scaler.fit_transform(X_train)\r\n",
        "X_test=std_scaler.transform(X_test)"
      ],
      "execution_count": null,
      "outputs": []
    },
    {
      "cell_type": "code",
      "metadata": {
        "id": "cjL4zxOVnzOv"
      },
      "source": [
        "parameters = {\r\n",
        "    'max_features': ['auto', 'sqrt', 'log2'],\r\n",
        "    'max_depth' : [4,5,6,7],\r\n",
        "    'criterion' :['gini']\r\n",
        "   }"
      ],
      "execution_count": null,
      "outputs": []
    },
    {
      "cell_type": "code",
      "metadata": {
        "id": "0C5CLjoTn_BT"
      },
      "source": [
        "model = RandomForestClassifier()\r\n",
        "clf = GridSearchCV(model, parameters, verbose=2)"
      ],
      "execution_count": null,
      "outputs": []
    },
    {
      "cell_type": "code",
      "metadata": {
        "colab": {
          "base_uri": "https://localhost:8080/"
        },
        "id": "uk3l_EyQoBZi",
        "outputId": "6e94581d-fb65-4a55-c58e-098c613e3991"
      },
      "source": [
        "clf.fit(X_train, y_train)"
      ],
      "execution_count": null,
      "outputs": [
        {
          "output_type": "stream",
          "text": [
            "Fitting 5 folds for each of 12 candidates, totalling 60 fits\n",
            "[CV] criterion=gini, max_depth=4, max_features=auto ..................\n"
          ],
          "name": "stdout"
        },
        {
          "output_type": "stream",
          "text": [
            "[Parallel(n_jobs=1)]: Using backend SequentialBackend with 1 concurrent workers.\n",
            "[Parallel(n_jobs=1)]: Done   1 out of   1 | elapsed:    0.2s remaining:    0.0s\n"
          ],
          "name": "stderr"
        },
        {
          "output_type": "stream",
          "text": [
            "[CV] ... criterion=gini, max_depth=4, max_features=auto, total=   0.2s\n",
            "[CV] criterion=gini, max_depth=4, max_features=auto ..................\n",
            "[CV] ... criterion=gini, max_depth=4, max_features=auto, total=   0.2s\n",
            "[CV] criterion=gini, max_depth=4, max_features=auto ..................\n",
            "[CV] ... criterion=gini, max_depth=4, max_features=auto, total=   0.2s\n",
            "[CV] criterion=gini, max_depth=4, max_features=auto ..................\n",
            "[CV] ... criterion=gini, max_depth=4, max_features=auto, total=   0.2s\n",
            "[CV] criterion=gini, max_depth=4, max_features=auto ..................\n",
            "[CV] ... criterion=gini, max_depth=4, max_features=auto, total=   0.2s\n",
            "[CV] criterion=gini, max_depth=4, max_features=sqrt ..................\n",
            "[CV] ... criterion=gini, max_depth=4, max_features=sqrt, total=   0.2s\n",
            "[CV] criterion=gini, max_depth=4, max_features=sqrt ..................\n",
            "[CV] ... criterion=gini, max_depth=4, max_features=sqrt, total=   0.2s\n",
            "[CV] criterion=gini, max_depth=4, max_features=sqrt ..................\n",
            "[CV] ... criterion=gini, max_depth=4, max_features=sqrt, total=   0.2s\n",
            "[CV] criterion=gini, max_depth=4, max_features=sqrt ..................\n",
            "[CV] ... criterion=gini, max_depth=4, max_features=sqrt, total=   0.2s\n",
            "[CV] criterion=gini, max_depth=4, max_features=sqrt ..................\n",
            "[CV] ... criterion=gini, max_depth=4, max_features=sqrt, total=   0.2s\n",
            "[CV] criterion=gini, max_depth=4, max_features=log2 ..................\n",
            "[CV] ... criterion=gini, max_depth=4, max_features=log2, total=   0.2s\n",
            "[CV] criterion=gini, max_depth=4, max_features=log2 ..................\n",
            "[CV] ... criterion=gini, max_depth=4, max_features=log2, total=   0.2s\n",
            "[CV] criterion=gini, max_depth=4, max_features=log2 ..................\n",
            "[CV] ... criterion=gini, max_depth=4, max_features=log2, total=   0.2s\n",
            "[CV] criterion=gini, max_depth=4, max_features=log2 ..................\n",
            "[CV] ... criterion=gini, max_depth=4, max_features=log2, total=   0.2s\n",
            "[CV] criterion=gini, max_depth=4, max_features=log2 ..................\n",
            "[CV] ... criterion=gini, max_depth=4, max_features=log2, total=   0.2s\n",
            "[CV] criterion=gini, max_depth=5, max_features=auto ..................\n",
            "[CV] ... criterion=gini, max_depth=5, max_features=auto, total=   0.2s\n",
            "[CV] criterion=gini, max_depth=5, max_features=auto ..................\n",
            "[CV] ... criterion=gini, max_depth=5, max_features=auto, total=   0.2s\n",
            "[CV] criterion=gini, max_depth=5, max_features=auto ..................\n",
            "[CV] ... criterion=gini, max_depth=5, max_features=auto, total=   0.2s\n",
            "[CV] criterion=gini, max_depth=5, max_features=auto ..................\n",
            "[CV] ... criterion=gini, max_depth=5, max_features=auto, total=   0.2s\n",
            "[CV] criterion=gini, max_depth=5, max_features=auto ..................\n",
            "[CV] ... criterion=gini, max_depth=5, max_features=auto, total=   0.2s\n",
            "[CV] criterion=gini, max_depth=5, max_features=sqrt ..................\n",
            "[CV] ... criterion=gini, max_depth=5, max_features=sqrt, total=   0.2s\n",
            "[CV] criterion=gini, max_depth=5, max_features=sqrt ..................\n",
            "[CV] ... criterion=gini, max_depth=5, max_features=sqrt, total=   0.2s\n",
            "[CV] criterion=gini, max_depth=5, max_features=sqrt ..................\n",
            "[CV] ... criterion=gini, max_depth=5, max_features=sqrt, total=   0.2s\n",
            "[CV] criterion=gini, max_depth=5, max_features=sqrt ..................\n",
            "[CV] ... criterion=gini, max_depth=5, max_features=sqrt, total=   0.2s\n",
            "[CV] criterion=gini, max_depth=5, max_features=sqrt ..................\n",
            "[CV] ... criterion=gini, max_depth=5, max_features=sqrt, total=   0.2s\n",
            "[CV] criterion=gini, max_depth=5, max_features=log2 ..................\n",
            "[CV] ... criterion=gini, max_depth=5, max_features=log2, total=   0.2s\n",
            "[CV] criterion=gini, max_depth=5, max_features=log2 ..................\n",
            "[CV] ... criterion=gini, max_depth=5, max_features=log2, total=   0.2s\n",
            "[CV] criterion=gini, max_depth=5, max_features=log2 ..................\n",
            "[CV] ... criterion=gini, max_depth=5, max_features=log2, total=   0.2s\n",
            "[CV] criterion=gini, max_depth=5, max_features=log2 ..................\n",
            "[CV] ... criterion=gini, max_depth=5, max_features=log2, total=   0.2s\n",
            "[CV] criterion=gini, max_depth=5, max_features=log2 ..................\n",
            "[CV] ... criterion=gini, max_depth=5, max_features=log2, total=   0.2s\n",
            "[CV] criterion=gini, max_depth=6, max_features=auto ..................\n",
            "[CV] ... criterion=gini, max_depth=6, max_features=auto, total=   0.2s\n",
            "[CV] criterion=gini, max_depth=6, max_features=auto ..................\n",
            "[CV] ... criterion=gini, max_depth=6, max_features=auto, total=   0.2s\n",
            "[CV] criterion=gini, max_depth=6, max_features=auto ..................\n",
            "[CV] ... criterion=gini, max_depth=6, max_features=auto, total=   0.2s\n",
            "[CV] criterion=gini, max_depth=6, max_features=auto ..................\n",
            "[CV] ... criterion=gini, max_depth=6, max_features=auto, total=   0.2s\n",
            "[CV] criterion=gini, max_depth=6, max_features=auto ..................\n",
            "[CV] ... criterion=gini, max_depth=6, max_features=auto, total=   0.2s\n",
            "[CV] criterion=gini, max_depth=6, max_features=sqrt ..................\n",
            "[CV] ... criterion=gini, max_depth=6, max_features=sqrt, total=   0.2s\n",
            "[CV] criterion=gini, max_depth=6, max_features=sqrt ..................\n",
            "[CV] ... criterion=gini, max_depth=6, max_features=sqrt, total=   0.2s\n",
            "[CV] criterion=gini, max_depth=6, max_features=sqrt ..................\n",
            "[CV] ... criterion=gini, max_depth=6, max_features=sqrt, total=   0.2s\n",
            "[CV] criterion=gini, max_depth=6, max_features=sqrt ..................\n",
            "[CV] ... criterion=gini, max_depth=6, max_features=sqrt, total=   0.2s\n",
            "[CV] criterion=gini, max_depth=6, max_features=sqrt ..................\n",
            "[CV] ... criterion=gini, max_depth=6, max_features=sqrt, total=   0.2s\n",
            "[CV] criterion=gini, max_depth=6, max_features=log2 ..................\n",
            "[CV] ... criterion=gini, max_depth=6, max_features=log2, total=   0.2s\n",
            "[CV] criterion=gini, max_depth=6, max_features=log2 ..................\n",
            "[CV] ... criterion=gini, max_depth=6, max_features=log2, total=   0.2s\n",
            "[CV] criterion=gini, max_depth=6, max_features=log2 ..................\n",
            "[CV] ... criterion=gini, max_depth=6, max_features=log2, total=   0.2s\n",
            "[CV] criterion=gini, max_depth=6, max_features=log2 ..................\n",
            "[CV] ... criterion=gini, max_depth=6, max_features=log2, total=   0.2s\n",
            "[CV] criterion=gini, max_depth=6, max_features=log2 ..................\n",
            "[CV] ... criterion=gini, max_depth=6, max_features=log2, total=   0.2s\n",
            "[CV] criterion=gini, max_depth=7, max_features=auto ..................\n",
            "[CV] ... criterion=gini, max_depth=7, max_features=auto, total=   0.2s\n",
            "[CV] criterion=gini, max_depth=7, max_features=auto ..................\n",
            "[CV] ... criterion=gini, max_depth=7, max_features=auto, total=   0.2s\n",
            "[CV] criterion=gini, max_depth=7, max_features=auto ..................\n",
            "[CV] ... criterion=gini, max_depth=7, max_features=auto, total=   0.2s\n",
            "[CV] criterion=gini, max_depth=7, max_features=auto ..................\n",
            "[CV] ... criterion=gini, max_depth=7, max_features=auto, total=   0.2s\n",
            "[CV] criterion=gini, max_depth=7, max_features=auto ..................\n",
            "[CV] ... criterion=gini, max_depth=7, max_features=auto, total=   0.2s\n",
            "[CV] criterion=gini, max_depth=7, max_features=sqrt ..................\n",
            "[CV] ... criterion=gini, max_depth=7, max_features=sqrt, total=   0.2s\n",
            "[CV] criterion=gini, max_depth=7, max_features=sqrt ..................\n",
            "[CV] ... criterion=gini, max_depth=7, max_features=sqrt, total=   0.2s\n",
            "[CV] criterion=gini, max_depth=7, max_features=sqrt ..................\n",
            "[CV] ... criterion=gini, max_depth=7, max_features=sqrt, total=   0.2s\n",
            "[CV] criterion=gini, max_depth=7, max_features=sqrt ..................\n",
            "[CV] ... criterion=gini, max_depth=7, max_features=sqrt, total=   0.2s\n",
            "[CV] criterion=gini, max_depth=7, max_features=sqrt ..................\n",
            "[CV] ... criterion=gini, max_depth=7, max_features=sqrt, total=   0.2s\n",
            "[CV] criterion=gini, max_depth=7, max_features=log2 ..................\n",
            "[CV] ... criterion=gini, max_depth=7, max_features=log2, total=   0.2s\n",
            "[CV] criterion=gini, max_depth=7, max_features=log2 ..................\n",
            "[CV] ... criterion=gini, max_depth=7, max_features=log2, total=   0.2s\n",
            "[CV] criterion=gini, max_depth=7, max_features=log2 ..................\n",
            "[CV] ... criterion=gini, max_depth=7, max_features=log2, total=   0.2s\n",
            "[CV] criterion=gini, max_depth=7, max_features=log2 ..................\n",
            "[CV] ... criterion=gini, max_depth=7, max_features=log2, total=   0.2s\n",
            "[CV] criterion=gini, max_depth=7, max_features=log2 ..................\n",
            "[CV] ... criterion=gini, max_depth=7, max_features=log2, total=   0.2s\n"
          ],
          "name": "stdout"
        },
        {
          "output_type": "stream",
          "text": [
            "[Parallel(n_jobs=1)]: Done  60 out of  60 | elapsed:   11.5s finished\n"
          ],
          "name": "stderr"
        },
        {
          "output_type": "execute_result",
          "data": {
            "text/plain": [
              "GridSearchCV(cv=None, error_score=nan,\n",
              "             estimator=RandomForestClassifier(bootstrap=True, ccp_alpha=0.0,\n",
              "                                              class_weight=None,\n",
              "                                              criterion='gini', max_depth=None,\n",
              "                                              max_features='auto',\n",
              "                                              max_leaf_nodes=None,\n",
              "                                              max_samples=None,\n",
              "                                              min_impurity_decrease=0.0,\n",
              "                                              min_impurity_split=None,\n",
              "                                              min_samples_leaf=1,\n",
              "                                              min_samples_split=2,\n",
              "                                              min_weight_fraction_leaf=0.0,\n",
              "                                              n_estimators=100, n_jobs=None,\n",
              "                                              oob_score=False,\n",
              "                                              random_state=None, verbose=0,\n",
              "                                              warm_start=False),\n",
              "             iid='deprecated', n_jobs=None,\n",
              "             param_grid={'criterion': ['gini'], 'max_depth': [4, 5, 6, 7],\n",
              "                         'max_features': ['auto', 'sqrt', 'log2']},\n",
              "             pre_dispatch='2*n_jobs', refit=True, return_train_score=False,\n",
              "             scoring=None, verbose=2)"
            ]
          },
          "metadata": {
            "tags": []
          },
          "execution_count": 12
        }
      ]
    },
    {
      "cell_type": "code",
      "metadata": {
        "colab": {
          "base_uri": "https://localhost:8080/"
        },
        "id": "toC4O1EloDnk",
        "outputId": "4b752cec-0da7-4867-be20-b3b4691e78d3"
      },
      "source": [
        "RFC_best_param = clf.best_params_\r\n",
        "print(\"Best params for RFC:\", RFC_best_param)"
      ],
      "execution_count": null,
      "outputs": [
        {
          "output_type": "stream",
          "text": [
            "Best params for RFC: {'criterion': 'gini', 'max_depth': 7, 'max_features': 'auto'}\n"
          ],
          "name": "stdout"
        }
      ]
    },
    {
      "cell_type": "code",
      "metadata": {
        "id": "K7J2zir8oM1P"
      },
      "source": [
        "predict = clf.predict(X_test)"
      ],
      "execution_count": null,
      "outputs": []
    },
    {
      "cell_type": "code",
      "metadata": {
        "colab": {
          "base_uri": "https://localhost:8080/"
        },
        "id": "TpPNC3spoQ0d",
        "outputId": "db9844a7-078f-4518-ac85-2afe3c075ecc"
      },
      "source": [
        "score = accuracy_score(y_test, predict)\r\n",
        "print(\"Best accuracy for RFC:\", score)"
      ],
      "execution_count": null,
      "outputs": [
        {
          "output_type": "stream",
          "text": [
            "Best accuracy for RFC: 0.987012987012987\n"
          ],
          "name": "stdout"
        }
      ]
    },
    {
      "cell_type": "code",
      "metadata": {
        "id": "3dHr7dPKoXSe"
      },
      "source": [
        "from pickle import dump\r\n",
        "dump(clf, open('heartmodel.pkl', 'wb'))\r\n",
        "dump(std_scaler, open('heartscaler.pkl', 'wb'))"
      ],
      "execution_count": null,
      "outputs": []
    },
    {
      "cell_type": "code",
      "metadata": {
        "id": "buCc_fG3pmKH"
      },
      "source": [
        ""
      ],
      "execution_count": null,
      "outputs": []
    }
  ]
}